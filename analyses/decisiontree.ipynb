{
 "metadata": {
  "language_info": {
   "codemirror_mode": {
    "name": "ipython",
    "version": 3
   },
   "file_extension": ".py",
   "mimetype": "text/x-python",
   "name": "python",
   "nbconvert_exporter": "python",
   "pygments_lexer": "ipython3",
   "version": 3
  },
  "orig_nbformat": 2
 },
 "nbformat": 4,
 "nbformat_minor": 2,
 "cells": [
  {
   "cell_type": "code",
   "execution_count": null,
   "metadata": {},
   "outputs": [],
   "source": [
    "#import scipy\n",
    "#scipy.test()"
   ]
  },
  {
   "cell_type": "code",
   "execution_count": null,
   "metadata": {},
   "outputs": [],
   "source": [
    "from sklearn.tree import DecisionTreeRegressor, plot_tree\n",
    "\n",
    "clf = DecisionTreeRegressor().fit(X_train, y_train)\n",
    "print(clf.score(X_test,y_test))\n",
    "scores = cross_val_score(clf, X_test, y_test,scoring=\"neg_mean_absolute_error\", cv=10)\n",
    "print(scores.mean())\n",
    "#plt.figure(figsize=(20,10))\n",
    "#plot_tree(clf, filled=True, fontsize=12)\n",
    "#plt.show()"
   ]
  },
  {
   "cell_type": "code",
   "execution_count": null,
   "metadata": {},
   "outputs": [],
   "source": [
    "from sklearn.model_selection import train_test_split, GridSearchCV\n",
    "m = clf.fit(X_train, y_train)\n",
    "\n",
    "param_grid = {\n",
    "    'criterion': ['mse', 'friedman_mse', 'mae'],\n",
    "    'max_depth': [5, 8, 15],\n",
    "    'min_samples_split': [5, 10, 15, 100],\n",
    "    'min_samples_leaf': [1, 2, 5, 10],\n",
    "    'max_features': ['log2', 'sqrt', 'None']\n",
    "}\n",
    "\n",
    "grid_search = GridSearchCV(m, param_grid, n_jobs=3, verbose=1, cv=5)\n",
    "grid_search.fit(X_train, y_train.values.ravel())\n",
    "print(grid_search.score(X_test, y_test))\n",
    "best = grid_search.best_estimator_.get_params()\n",
    "best\n",
    "for p in sorted(param_grid.keys()):\n",
    "    print(f\"{p}: {best[p]}\")\n",
    "\n"
   ]
  }
 ]
}