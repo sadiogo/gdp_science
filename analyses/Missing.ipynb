{
 "metadata": {
  "language_info": {
   "codemirror_mode": {
    "name": "ipython",
    "version": 3
   },
   "file_extension": ".py",
   "mimetype": "text/x-python",
   "name": "python",
   "nbconvert_exporter": "python",
   "pygments_lexer": "ipython3",
   "version": "3.8.3-final"
  },
  "orig_nbformat": 2,
  "kernelspec": {
   "name": "python3",
   "display_name": "Python 3"
  }
 },
 "nbformat": 4,
 "nbformat_minor": 2,
 "cells": [
  {
   "cell_type": "code",
   "execution_count": 2,
   "metadata": {},
   "outputs": [],
   "source": [
    "import seaborn as sns\n",
    "import pandas as pd\n",
    "import numpy as np\n",
    "sns.set()"
   ]
  },
  {
   "cell_type": "code",
   "execution_count": null,
   "metadata": {},
   "outputs": [],
   "source": []
  },
  {
   "cell_type": "code",
   "execution_count": 3,
   "metadata": {},
   "outputs": [
    {
     "output_type": "stream",
     "name": "stdout",
     "text": [
      "0 - Independent\n1 - Sink OFC\n2 - Conduit OFC\n3 - Code\n4 - Country\n5 - Year\n6 - Population\n7 - Population 25 Years Before\n8 - Population 25+\n9 - Documents\n10 - Citable documents\n11 - Citations\n12 - Self-citations\n13 - Citations per Document\n14 - H index\n15 - Subject\n16 - Avg. Adult Schooling\n17 - GDP per capita (World Bank)\n18 - GDP per capita (PWT)\n19 - MAX TAMS\n20 - REAL TAMS\n21 - Documents / M-TAMS\n22 - Documents / R-TAMS\n23 - Citations / M-TAMS\n24 - Citations / R-TAMS\n25 - Gov. Effectiveness\n26 - Charges for the use of intellectual property, payments (BoP, current US$)\n27 - Charges for the use of intellectual property, receipts (BoP, current US$)\n28 - Firms that spend on R&D (% of firms)\n29 - High-technology exports (current US$)\n30 - Industrial design applications, nonresident, by count\n31 - Industrial design applications, resident, by count\n32 - Labor force with advanced education (% of total working-age population with advanced education)\n33 - Patent applications, nonresidents\n34 - Patent applications, residents\n35 - Research and development expenditure (% of GDP)\n36 - Researchers in R&D (per million people)\n37 - Scientific and technical journal articles\n38 - Technicians in R&D (per million people)\n39 - Trademark applications, nonresident, by count\n40 - Trademark applications, resident, by count\n41 - Trademark applications, total\n"
     ]
    }
   ],
   "source": [
    "df = pd.read_csv('../outputs/db.csv', index_col=0)\n",
    "\n",
    "for i, column in enumerate(df.columns.values):\n",
    "    print(f\"{i} - {column}\")"
   ]
  },
  {
   "cell_type": "code",
   "execution_count": 31,
   "metadata": {},
   "outputs": [
    {
     "output_type": "execute_result",
     "data": {
      "text/plain": [
       "Independent                                                                                             0\n",
       "Sink OFC                                                                                                0\n",
       "Conduit OFC                                                                                             0\n",
       "Code                                                                                                    0\n",
       "Country                                                                                                 0\n",
       "Year                                                                                                    0\n",
       "Population                                                                                              0\n",
       "Population 25 Years Before                                                                              0\n",
       "Population 25+                                                                                       4701\n",
       "Documents                                                                                               0\n",
       "Citable documents                                                                                       0\n",
       "Citations                                                                                               0\n",
       "Self-citations                                                                                          0\n",
       "Citations per Document                                                                                  0\n",
       "H index                                                                                                 0\n",
       "Subject                                                                                                 0\n",
       "Avg. Adult Schooling                                                                                15694\n",
       "GDP per capita (World Bank)                                                                         22729\n",
       "GDP per capita (PWT)                                                                                20643\n",
       "MAX TAMS                                                                                            15694\n",
       "REAL TAMS                                                                                           16872\n",
       "Documents / M-TAMS                                                                                  15694\n",
       "Documents / R-TAMS                                                                                  16872\n",
       "Citations / M-TAMS                                                                                  15694\n",
       "Citations / R-TAMS                                                                                  16872\n",
       "Gov. Effectiveness                                                                                  17355\n",
       "Charges for the use of intellectual property, payments (BoP, current US$)                           32251\n",
       "Charges for the use of intellectual property, receipts (BoP, current US$)                           36479\n",
       "Firms that spend on R&D (% of firms)                                                               103984\n",
       "High-technology exports (current US$)                                                               66600\n",
       "Industrial design applications, nonresident, by count                                               65938\n",
       "Industrial design applications, resident, by count                                                  65887\n",
       "Labor force with advanced education (% of total working-age population with advanced education)     67588\n",
       "Patent applications, nonresidents                                                                   45834\n",
       "Patent applications, residents                                                                      48089\n",
       "Research and development expenditure (% of GDP)                                                     57364\n",
       "Researchers in R&D (per million people)                                                             68395\n",
       "Scientific and technical journal articles                                                           26578\n",
       "Technicians in R&D (per million people)                                                             77768\n",
       "Trademark applications, nonresident, by count                                                       70138\n",
       "Trademark applications, resident, by count                                                          70116\n",
       "Trademark applications, total                                                                       39408\n",
       "dtype: int64"
      ]
     },
     "metadata": {},
     "execution_count": 31
    }
   ],
   "source": [
    "df.isnull().sum()\n",
    "\n"
   ]
  },
  {
   "cell_type": "code",
   "execution_count": 25,
   "metadata": {},
   "outputs": [
    {
     "output_type": "stream",
     "name": "stdout",
     "text": [
      "Country        Year\nFaroe Islands  2018    27\nLiechtenstein  2019    27\n               2017    26\n               2013    26\nFaroe Islands  2019    26\n                       ..\nNew Caledonia  2005     0\n               2006     0\n               2007     0\n               2008     0\nAfghanistan    1996     0\nName: Population 25+, Length: 5223, dtype: int64\n"
     ]
    }
   ],
   "source": []
  },
  {
   "cell_type": "code",
   "execution_count": 47,
   "metadata": {},
   "outputs": [
    {
     "output_type": "execute_result",
     "data": {
      "text/plain": [
       "Country\n",
       "Monaco           462\n",
       "Liechtenstein    450\n",
       "Faroe Islands    359\n",
       "Greenland        330\n",
       "Bermuda          312\n",
       "                ... \n",
       "Namibia            0\n",
       "Myanmar            0\n",
       "Mozambique         0\n",
       "Morocco            0\n",
       "Afghanistan        0\n",
       "Name: Population 25+, Length: 225, dtype: int64"
      ]
     },
     "metadata": {},
     "execution_count": 47
    }
   ],
   "source": [
    "missing25 = df.groupby(['Country','Year'])['Population 25+'].apply(lambda x: x.isnull().sum()).sort_values(ascending=False)\n",
    "missing25.groupby(['Country']).sum().sort_values(ascending=False)\n"
   ]
  },
  {
   "cell_type": "code",
   "execution_count": 48,
   "metadata": {},
   "outputs": [
    {
     "output_type": "execute_result",
     "data": {
      "text/plain": [
       "Country\n",
       "China, Taiwan Province of China    672\n",
       "Puerto Rico                        665\n",
       "China, Macao SAR                   537\n",
       "New Caledonia                      471\n",
       "Monaco                             462\n",
       "                                  ... \n",
       "Tonga                               11\n",
       "Western Sahara                      10\n",
       "Palau                                9\n",
       "Sao Tome and Principe                9\n",
       "South Sudan                          7\n",
       "Name: Avg. Adult Schooling, Length: 225, dtype: int64"
      ]
     },
     "metadata": {},
     "execution_count": 48
    }
   ],
   "source": [
    "avgschooling = df.groupby(['Country','Year'])['Avg. Adult Schooling'].apply(lambda x: x.isnull().sum()).sort_values(ascending=False)\n",
    "avgschooling.groupby(['Country']).sum().sort_values(ascending=False)\n",
    "\n"
   ]
  },
  {
   "cell_type": "code",
   "execution_count": 49,
   "metadata": {},
   "outputs": [
    {
     "output_type": "execute_result",
     "data": {
      "text/plain": [
       "Country\n",
       "Saudi Arabia                 672\n",
       "South Africa                 672\n",
       "New Zealand                  672\n",
       "Finland                      672\n",
       "Switzerland                  672\n",
       "                            ... \n",
       "South Sudan                   42\n",
       "Niue                          41\n",
       "Tokelau                       20\n",
       "Saint Pierre and Miquelon     12\n",
       "Western Sahara                10\n",
       "Name: Firms that spend on R&D (% of firms), Length: 225, dtype: int64"
      ]
     },
     "metadata": {},
     "execution_count": 49
    }
   ],
   "source": [
    "rd = df.groupby(['Country','Year'])['Firms that spend on R&D (% of firms)'].apply(lambda x: x.isnull().sum()).sort_values(ascending=False)\n",
    "rd.groupby(['Country']).sum().sort_values(ascending=False)"
   ]
  },
  {
   "cell_type": "code",
   "execution_count": null,
   "metadata": {},
   "outputs": [],
   "source": [
    "e"
   ]
  }
 ]
}